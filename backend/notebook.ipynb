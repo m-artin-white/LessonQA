{
 "cells": [
  {
   "cell_type": "code",
   "execution_count": null,
   "metadata": {},
   "outputs": [],
   "source": [
    "print(\"Hello\")"
   ]
  },
  {
   "cell_type": "markdown",
   "metadata": {},
   "source": [
    "## Testing out Ollama with Subprocess library"
   ]
  },
  {
   "cell_type": "code",
   "execution_count": null,
   "metadata": {},
   "outputs": [],
   "source": [
    "import subprocess"
   ]
  },
  {
   "cell_type": "code",
   "execution_count": null,
   "metadata": {},
   "outputs": [],
   "source": [
    "prompt = \"Hello\"\n",
    "\n",
    "result = subprocess.run(\n",
    "    [\"ollama\", \"run\", \"llama3.2\", \"--prompt\", prompt], \n",
    "    capture_output=True, \n",
    "    text=True\n",
    ")\n",
    "\n",
    "# Print the output from the model\n",
    "print(result.stdout)"
   ]
  },
  {
   "cell_type": "code",
   "execution_count": null,
   "metadata": {},
   "outputs": [],
   "source": [
    "import ollama\n",
    "response = ollama.chat(model='llama3.2', messages=[\n",
    "  {\n",
    "    'role': 'user',\n",
    "    'content': 'Why is the sky blue?',\n",
    "  },\n",
    "])\n",
    "print(response['message']['content'])"
   ]
  },
  {
   "cell_type": "code",
   "execution_count": null,
   "metadata": {},
   "outputs": [],
   "source": [
    "prompt = \"\"\"\n",
    "You are part of an application called CLUSTER. This application allows teachers/professors to upload their lecture content and\n",
    "receive questions on their material from AI students. This is where you come in. You will be tasked with behaving like an AI student\n",
    "and generating questions to ask on the material. \n",
    "\"\"\""
   ]
  },
  {
   "cell_type": "code",
   "execution_count": null,
   "metadata": {},
   "outputs": [],
   "source": [
    "prompt = \"\"\"\n",
    "You are an AI student within an application called CLUSTER, designed to assist teachers and professors in refining their teaching materials by interacting with virtual students. Your primary role is to analyze uploaded lecture content and generate insightful, relevant, and diverse questions based on the material.\n",
    "\n",
    "To fulfill this role:\n",
    "- Review the lecture content carefully, identifying key concepts, challenging areas, and potential ambiguities that a real student might question.\n",
    "- Generate questions that:\n",
    "  - Clarify or probe deeper into complex topics.\n",
    "  - Encourage critical thinking or application of knowledge.\n",
    "  - Test understanding or recall of essential details.\n",
    "  - Spark curiosity about broader implications or connections to related fields.\n",
    "- Consider varying question types, such as factual, conceptual, and application-based, to simulate real student interactions.\n",
    "  \n",
    "Your goal is to help educators by mimicking authentic student curiosity and comprehension challenges, ultimately enhancing the clarity and engagement of their lecture content.\n",
    "\"\"\"\n"
   ]
  },
  {
   "cell_type": "markdown",
   "metadata": {},
   "source": [
    "## GGUF Tests below with Mistral AI"
   ]
  },
  {
   "cell_type": "code",
   "execution_count": null,
   "metadata": {},
   "outputs": [],
   "source": [
    "from llama_cpp import Llama\n",
    "\n",
    "# model_path = \"llm_gguf/mistral-7b-instruct-v0.1.Q4_K_M.gguf\"\n",
    "# model_path = \"llm_gguf/mistral-7b-v0.1.Q4_K_M.gguf\"\n",
    "model_path = \"llm_gguf/mistral-7b-v0.1.Q3_K_M.gguf\"\n",
    "llm = Llama(model_path=model_path, n_ctx=256, use_gpu=True, n_gpu_layers=20)  \n",
    "\n",
    "messages = [\n",
    "    {\"role\": \"system\", \"content\": prompt},\n",
    "    {\"role\": \"user\", \"content\": \"Today we will learn how to add two numbers together. When you add 2 + 2, we get 4.\"}\n",
    "]\n",
    "\n",
    "output = llm.create_chat_completion(messages)\n",
    "print(output['choices'][0]['message']['content'])"
   ]
  },
  {
   "cell_type": "code",
   "execution_count": null,
   "metadata": {},
   "outputs": [],
   "source": [
    "from llama_cpp import Llama\n",
    "llm = Llama(\n",
    "      model_path=\"llm_gguf/mistral-7b-v0.1.Q3_K_M.gguf\",\n",
    "      n_gpu_layers=-1, # will try offload all possible layers to GPU\n",
    "      )"
   ]
  },
  {
   "cell_type": "code",
   "execution_count": null,
   "metadata": {},
   "outputs": [],
   "source": [
    "from llama_cpp import Llama\n",
    "\n",
    "messages = [\n",
    "    {\"role\": \"system\", \"content\": \"You are a helpful assistant.\"},\n",
    "    {\"role\": \"user\", \"content\": \"What's the capital of France?\"}\n",
    "]\n",
    "\n",
    "output = llm.create_chat_completion(messages)\n",
    "print(output['choices'][0]['message']['content'])"
   ]
  },
  {
   "cell_type": "markdown",
   "metadata": {},
   "source": [
    "## Testing New LLM Class"
   ]
  },
  {
   "cell_type": "code",
   "execution_count": null,
   "metadata": {},
   "outputs": [],
   "source": [
    "from llm import LLM\n",
    "llm = LLM()"
   ]
  },
  {
   "cell_type": "code",
   "execution_count": null,
   "metadata": {},
   "outputs": [],
   "source": [
    "llm.load_prompt(prompt=\"default_student\")"
   ]
  },
  {
   "cell_type": "code",
   "execution_count": null,
   "metadata": {},
   "outputs": [],
   "source": [
    "test1 = llm.query(query=\"Today we will learn how to add two numbers together. When you add 2 + 2, we get 4.\")"
   ]
  },
  {
   "cell_type": "code",
   "execution_count": null,
   "metadata": {},
   "outputs": [],
   "source": [
    "test1"
   ]
  },
  {
   "cell_type": "markdown",
   "metadata": {},
   "source": [
    "## Testing MongoDB Atlas"
   ]
  },
  {
   "cell_type": "code",
   "execution_count": null,
   "metadata": {},
   "outputs": [],
   "source": [
    "from dotenv import load_dotenv\n",
    "import os\n",
    "\n",
    "load_dotenv() \n",
    "uri = os.getenv(\"MONGO_DB_CONNECTION_STRING\")\n",
    "\n",
    "print(uri)"
   ]
  },
  {
   "cell_type": "code",
   "execution_count": null,
   "metadata": {},
   "outputs": [],
   "source": [
    "\n",
    "from pymongo.mongo_client import MongoClient\n",
    "from dotenv import load_dotenv\n",
    "import os\n",
    "\n",
    "load_dotenv() \n",
    "uri = os.getenv(\"MONGO_DB_CONNECTION_STRING\")\n",
    "\n",
    "# Create a new client and connect to the server\n",
    "client = MongoClient(uri)\n",
    "\n",
    "# Send a ping to confirm a successful connection\n",
    "try:\n",
    "    client.admin.command('ping')\n",
    "    print(\"Pinged your deployment. You successfully connected to MongoDB!\")\n",
    "except Exception as e:\n",
    "    print(e)"
   ]
  },
  {
   "cell_type": "code",
   "execution_count": null,
   "metadata": {},
   "outputs": [],
   "source": [
    "db = client['user_db']"
   ]
  },
  {
   "cell_type": "code",
   "execution_count": null,
   "metadata": {},
   "outputs": [],
   "source": [
    "collection = db['user_credentials']"
   ]
  },
  {
   "cell_type": "code",
   "execution_count": null,
   "metadata": {},
   "outputs": [],
   "source": [
    "json_test = {\n",
    "    \"hello\": \"world\"\n",
    "}"
   ]
  },
  {
   "cell_type": "code",
   "execution_count": null,
   "metadata": {},
   "outputs": [],
   "source": [
    "collection.insert_one(json_test)"
   ]
  },
  {
   "cell_type": "code",
   "execution_count": null,
   "metadata": {},
   "outputs": [],
   "source": [
    "from utilities.llm\n",
    "\n",
    "llm = LLM()"
   ]
  },
  {
   "cell_type": "code",
   "execution_count": null,
   "metadata": {},
   "outputs": [],
   "source": [
    "from requests"
   ]
  },
  {
   "cell_type": "code",
   "execution_count": null,
   "metadata": {},
   "outputs": [],
   "source": [
    "from utilities.extraction_tool import ExtractionTool"
   ]
  },
  {
   "cell_type": "code",
   "execution_count": null,
   "metadata": {},
   "outputs": [],
   "source": [
    "tool = ExtractionTool()"
   ]
  },
  {
   "cell_type": "code",
   "execution_count": null,
   "metadata": {},
   "outputs": [],
   "source": [
    "extracted_text = tool.extract_text_from_pdf(\"C:\\\\Users\\\\marti\\\\CLUSTER\\\\test_docs\\\\Lorem_ipsum.pdf\")"
   ]
  },
  {
   "cell_type": "code",
   "execution_count": null,
   "metadata": {},
   "outputs": [],
   "source": [
    "extracted_text"
   ]
  },
  {
   "cell_type": "code",
   "execution_count": null,
   "metadata": {},
   "outputs": [],
   "source": [
    "extracted_pp = tool.extract_text_from_pptx(\"C:\\\\Users\\\\marti\\\\CLUSTER\\\\test_docs\\\\samplepptx.pptx\")"
   ]
  },
  {
   "cell_type": "code",
   "execution_count": null,
   "metadata": {},
   "outputs": [],
   "source": [
    "extracted_pp"
   ]
  },
  {
   "cell_type": "code",
   "execution_count": null,
   "metadata": {},
   "outputs": [],
   "source": [
    "from utilities.llm import LLM"
   ]
  },
  {
   "cell_type": "code",
   "execution_count": null,
   "metadata": {},
   "outputs": [],
   "source": [
    "llm = LLM()"
   ]
  },
  {
   "cell_type": "code",
   "execution_count": null,
   "metadata": {},
   "outputs": [],
   "source": [
    "llm.query(query = \"Why is the sky blue?\")"
   ]
  },
  {
   "cell_type": "code",
   "execution_count": null,
   "metadata": {},
   "outputs": [],
   "source": [
    "from utilities.ollama_llm import OllamaLLM\n",
    "ollama_llm = OllamaLLM()"
   ]
  },
  {
   "cell_type": "code",
   "execution_count": null,
   "metadata": {},
   "outputs": [],
   "source": [
    "ollama_llm.query(\"2+2 is 4, are there any questions on this?\")"
   ]
  },
  {
   "cell_type": "markdown",
   "metadata": {},
   "source": [
    "## Testing function to summarise PDF before passing to LLM."
   ]
  },
  {
   "cell_type": "code",
   "execution_count": 1,
   "metadata": {},
   "outputs": [],
   "source": [
    "import fitz  # PyMuPDF\n",
    "\n",
    "def extract_text_from_pdf(file_path):\n",
    "    text = \"\"\n",
    "    try:\n",
    "        # Open the PDF file\n",
    "        pdf_document = fitz.open(file_path)\n",
    "        for page_num in range(len(pdf_document)):\n",
    "            page = pdf_document.load_page(page_num)\n",
    "            text += page.get_text() + \"\\n\"\n",
    "        pdf_document.close()\n",
    "    except Exception as e:\n",
    "        print(f\"An error occurred: {e}\")\n",
    "    \n",
    "    return text"
   ]
  },
  {
   "cell_type": "code",
   "execution_count": 2,
   "metadata": {},
   "outputs": [],
   "source": [
    "pdf_content = extract_text_from_pdf(\"../CS433_L2_2024.pdf\")"
   ]
  },
  {
   "cell_type": "code",
   "execution_count": 3,
   "metadata": {},
   "outputs": [
    {
     "data": {
      "text/plain": [
       "13636"
      ]
     },
     "execution_count": 3,
     "metadata": {},
     "output_type": "execute_result"
    }
   ],
   "source": [
    "len(pdf_content)"
   ]
  },
  {
   "cell_type": "code",
   "execution_count": 4,
   "metadata": {},
   "outputs": [],
   "source": [
    "from llama_index.core.node_parser import SentenceSplitter"
   ]
  },
  {
   "cell_type": "code",
   "execution_count": 5,
   "metadata": {},
   "outputs": [],
   "source": [
    "node_parser = SentenceSplitter(chunk_size=512, chunk_overlap=20)"
   ]
  },
  {
   "cell_type": "code",
   "execution_count": 6,
   "metadata": {},
   "outputs": [],
   "source": [
    "sentences = node_parser.split_text(pdf_content)"
   ]
  },
  {
   "cell_type": "code",
   "execution_count": 10,
   "metadata": {},
   "outputs": [
    {
     "data": {
      "text/plain": [
       "['CS433 Modern Architectures\\nVideo 2\\nThe machine cycle\\nThis video is the copyright of Maynooth University and may not be copied, or reposted.\\nCreated for streaming using Panopto within MU Moodle only.\\nCM Lecture 2\\n\\nTopic 1.1: Types of computer\\nThere are many ways that we could choose to compute\\nThe DEC (Digital Electronic Computer) is by far the most popular\\nNeurones\\nIBM TrueNorth\\nRetinal Prosthesis\\nLight\\nSpatial filtering     Holography\\nOptical transistor\\nQuantum\\nD-Wave 128 Qubits\\nn Qubits contains superposition of 2n states\\nDNA\\nDifference Engine\\nPin Wheel\\nMechanical\\nStructure\\nElectrical\\nTransistor\\nIC\\nn bits can be in only one of 2n states\\nValve\\nRelay\\nCoding of data\\n\\nAnalogue\\nDifferential Equation\\nDigital\\n+\\n-\\nA\\nB\\n-(A+B)\\nAnalog adder circuit\\n+\\n-\\nA\\nDifferentiator\\nResponse\\nAn analogue signal is continuous (can have all \\nvalues in a range).  The signal is processed by \\nelectronics \\nthat \\ncan \\namplify, \\nmultiply, \\ndifferentiate and integrate input signals to \\nproduce an output.  Projectile motion can be \\nsimulated using a circuit that responds in the \\nsame way as the differential equation describing \\nthe motion . \\nA digital signal is discrete (can have one of two \\nvalues in a range).  Digital logic can use 0 volts to \\nrepresent 0 in binary and say 5 volts to represent \\n1 in binary.  Digital circuits to process the 1 or 0 \\ninformation are much easier to build as they only \\nneed to switch between two values rather have \\nan output that is continuous and accurate over a \\nrange.\\nCXY\\nX+Y\\nAND\\nXOR\\nX\\nY\\nAdder\\nQ\\nQ\\nS\\nR\\nSet\\nReset\\n1\\nRS Flip flop (1 bit memory)\\n0V\\n5V\\nTime\\nAnalogue\\nDigital\\n\\nTypes of computer\\nHarvard\\nVon Neumann\\nMemory and data buses to store instructions \\n(operators) is separate to the memory used for \\ndata (operands).',\n",
       " 'ALU\\nRegisters\\nBus Interface\\nInstructions\\nAddress  \\nbus 1\\nData \\nbus 1\\nALU\\nRegisters\\nBus Interface\\nInstructions \\nand data\\nAddress bus\\nData bus\\nData\\nAddress \\nbus 2\\nData \\nbus2\\nThere is only one memory used for both data and \\ninstructions.  Looking at bytes in memory it \\nwould difficult to tell with certainty which stores \\ncode and which stores data.\\nArizona PIC Microcontroller\\nInstruction  Data \\nAssembly language\\n5A           01    movlw B’00000001’ ; w=1\\n4F           03    movwf PORTB  ; Port B=w\\nEven though the x86 processor is von Neumann, internally it can split data and instruction pipelines to speed things up \\n(essentially Harvard in nature)\\nx86 Assembly language\\nInstruction and Data       Assembly language \\nB0 00 \\n     \\n \\nmov al,0\\nB8 02 38       \\n \\nmov ax,568\\nArizona PIC - Harvard\\nZilog Z80A - Von Neumann\\nJohn von Neumann\\n1903 –1957\\n\\nOrganisation of a von Neumann digital electronic computer\\nArithmetic and Logic Unit\\nControl\\nClock\\nMemory\\nInput\\nOutput\\nCPU\\nMemory used for both \\ndata and code\\nSingle bus used for code \\nand data\\n\\nTopic 1.2: Lift the lid on a computer\\n\\nPC Mother Board\\nCPU\\nHard disk\\nDVD Drive\\nPower Supply Unit \\nMemory\\nGPU\\nI/O\\n\\nES\\nCS\\nSS\\nDS\\nIP\\nDL\\nSP\\nBP\\nSI\\nAH\\nBL\\nCL\\nBH\\nCH\\nDH\\nAL\\nOPERANDS\\nFLAGS\\nCONTROL\\nSYSYTEM\\nMemory\\n3\\n5\\n4\\n6\\n1\\n2\\nDI\\nALU\\nA-Bus\\nSum\\nC-Bus\\nB-Bus\\n8086 Block diagram\\nEU\\nBIU\\nRegisters\\nCache\\nRegisters\\nRegisters\\nBIU: Bus Interface Unit\\nThe BIU sends outs addresses fetches instructions \\nfrom memory and reads and writes to ports and to \\nmemory.\\nEU: Execution Unit\\nThe EU instructs the BIU where to fetch instructions, it \\ndecodes instructions and executes instructions.\\nThe EU contains both the ALU and Control Circuitry.\\nThe A-Bus, B-Bus and C-Bus are high speed data paths \\ncontained within the Microprocessor itself.',\n",
       " 'The  control unit fetches instructions from the queue.  \\nThe queue is a first in first out store of 6 bytes.\\nThe store is kept full by the BIU.  This means that main \\nmemory is not accessed for each byte of each \\ninstruction.  The technique is known as pipleling.\\nSome instructions such as conditional jumps and call \\nto subroutines can not be pipelined (more later). \\n\\nTopic 1.3: The ALU (EU)\\nThe ALU (Arithmetic Logic Unit) in the 8086 can ADD, \\nSubtract, AND, OR, XOR, increment, decrement, \\ncomplement and shift 16-bit binary numbers.\\nAdd: \\n \\nOuptut=A+B\\nSubtract:  \\nOutput=A-B\\nExor: \\n \\nOutput=A\\uf0c5B\\nAND: \\n \\nOutput=A.B\\nOR: \\n \\nOutput=A+B\\nPass: \\n \\nOutput=A\\nComplement: \\nOutput=A\\nSet: \\n \\nOutput=1\\nShift Left      \\nOutput=A*2\\nShift Right Output=A/2\\n&\\nOR\\n\\uf0c5\\nAdd\\nMUX\\nOutput\\nA\\nB\\nD2\\nD3\\nS0\\nD1\\nD0\\nS1\\nQ\\nS0\\nS1\\nInputs A and B are operated on by all \\nthe functions available in parallel.  \\nThe multiplexer connects the ALU \\noutput to the desired function.',\n",
       " 'The multiplexer connects the ALU \\noutput to the desired function.\\nS0   S1   Output\\n 0     0       A&B\\n 0     1       AORB\\n 1     0       A\\uf0c5B\\n 1     1       A+B\\nMUX: Multiplexer\\n\\nS1\\n&\\nOR\\n\\uf0c5\\nAdd\\nMUX\\nO0\\nA0 B0\\nD2\\nD3\\nS0\\nD1\\nD0\\nQ\\nS0 S1\\nTwo bit ALU\\n&\\nOR\\n\\uf0c5\\nAdd\\nO1\\nA1 B1\\nD2\\nD3\\nS0\\nD1\\nD0\\nS1\\nQ\\nC1\\n\\nMultiplexers\\nAND\\nAND\\nD\\nC\\nA0\\nA1\\nOR\\n0  0      0\\n0  1      0\\n1  0      0\\n1  1      1\\nA B   A.B\\nAND\\n0  0      0\\n0  1      1\\n1  0      1\\n1  1      1\\nA B   A+B\\nOR\\n0   A1\\n1   A0\\nC   D\\nThe Control line C selects which input is \\nrouted to the output. \\nAND\\nXOR\\nCXY\\nX+Y\\nX\\nY\\nHalf Adder\\nAdders\\nHalf Add\\nHalf Add\\nC0\\nA1\\nB1\\nC0ut\\nC1\\nOR\\nS0ut\\nA1+B1\\nFull Adder\\nNote: The half adder can not take carry in bits.\\nCombining two half adders creates a full adder capable of \\naccepting carry in.\\n\\nA0\\nB0\\nA1\\nB1\\nA2\\nB2\\nA3\\nB3\\nO0\\nO1\\nO2\\nO3\\nFull\\nAdder\\nFull\\nAdder\\nFull\\nAdder\\nFull\\nAdder\\nAdd/Subtract\\nCIN\\nCOUT\\nCIN\\nCOUT\\nCIN\\nCOUT\\n4 Bit Adder/Subtract\\n\\uf0c5\\n\\uf0c5\\n\\uf0c5\\n\\uf0c5\\nTwos Complement of B is generated when AS line is \\nlow. \\nAdding twos complement of a number gives the \\nsame result as subtracting the number.',\n",
       " 'Adding twos complement of a number gives the \\nsame result as subtracting the number.\\nWhen Add is high B is unchanged and the carry in bit \\nto the first full adder is zero.  The result is normal \\naddition.\\nA B   A\\uf0c5 B\\n0  0        0\\n0  1        1\\n1  0        1\\n1  1        0\\n\\nTopic 1.4: Registers = latches = D Type Flip Flop\\nQ=D when Clk=1\\nQ=last D when Clk=0\\nClk\\nD\\n1\\n0\\n1\\n1\\nQ\\nQ\\nS\\nR\\n0\\n1\\n1\\nData (D)=1, Clock=1, Output (Q)=1\\nClk D          Q\\n0     x      No change\\n1     x      No change\\n       0      0\\n       1      1\\n       x      No change\\nD\\nQ\\nQ\\nClk\\n5V\\nD\\nQ\\nQ\\nClk\\nClk\\nDifferentiator\\n5V Zener\\nInput is transferred (stored) to \\nthe output on next rising edge of \\nthe clock.\\n0V\\n+5V\\n-5V\\n0V\\nClock pulse\\nLevel Triggered\\nEdge Triggered\\n\\nLatch becomes a Register\\nThe CPU contains  a number of internal memory locations \\nmade of D type latches.  \\nEach memory location contains a binary number.\\nThe locations have a name and have a specific purpose.\\nThey affect the operation of the hardware.\\nThey can be 8, 16, 32, 64, 128 or more bits. \\nEach register is designed for a specific purpose.\\nExamples include\\nAccumulator: Stores running total of a calculation\\nInstruction pointer: Address of the line of code being \\nexecuted\\nInput\\nOutput\\nD0\\nD7\\nQ0\\nQ7\\nRegister\\nor\\nLatch\\nClock\\nInformation (a binary \\nnumber) is transferred \\n(stored) to the output on next \\nrising edge of the clock.\\n\\nTopic 1.5: A Simple Calculator\\nMost Microprocessors have a special register that stores the result of the calculations executed \\nby the ALU, this register is known as the accumulator.  The result of a calculation can also be \\nsent to the stack, other registers or even machine memory.',\n",
       " 'Using the contents of the accumulator as the input to the ALU creates a device that can do \\ncomplex calculations.\\nA1\\nA0\\nA3\\nA2\\nA0\\nA1\\nA2\\nA3\\nB1\\nB0\\nB3\\nB2\\nALU\\nLatch\\nS0 S1\\nS2\\nInstruction\\nClock\\nO0\\nO1\\nO2\\nO3\\nS0S1\\nS2\\nData\\nAccumulator\\n\\nA1\\nA0\\nA3\\nA2\\nA0\\nA1\\nA2\\nA3\\nB1\\nB0\\nB3\\nB2\\nALU\\nLatch\\nS0 S1\\nS2\\nInstruction (Operator)\\nMOV A, S=0\\nClock\\nQ0\\nQ1\\nQ2\\nQ3\\nS0S1\\nS2\\nAccumulator\\nS(Hex)S2S1S0Function\\n0\\n0 0 0 MOV A,N\\n1\\n0 0 1 AND A,B\\n2\\n0 1 0 OR A,B\\n3\\n0 1 1 XOR A,B\\n4\\n1 0 0 ADD A,B\\n5\\n1 0 1 Shift R, A\\n6\\n1 1 0 Shift L, A\\n7\\n1 1 1 NOP\\nProgram to evaluate 5-3\\nAssembly   Machine code  Accumulator\\nMOV A, 3   S=0, B=3      A=0011b=3\\nXOR A,15   S=3, B=15     A=1100b=12\\nADD A,1    S=4, B=1      A=1101b=13=-3 TC\\nADD A,5    S=4, B=5      A=0010b=2\\nALU \\nInstruction set\\nData (Operand)\\nB=3\\nQ=3\\nA=Unknown\\nFalling edge on clock \\ncauses next instruction \\nto be taken from \\nmemory and \\npresented to the ALU.',\n",
       " 'Time\\n\\nA1\\nA0\\nA3\\nA2\\nA0\\nA1\\nA2\\nA3\\nB1\\nB0\\nB3\\nB2\\nALU\\nLatch\\nS0 S1\\nS2\\nInstruction (Operator)\\nMOV A, S=0\\nClock\\nQ0\\nQ1\\nQ2\\nQ3\\nS0S1\\nS2\\nAccumulator\\nS(Hex)S2S1S0Function\\n0\\n0 0 0 MOV A,N\\n1\\n0 0 1 AND A,B\\n2\\n0 1 0 OR A,B\\n3\\n0 1 1 XOR A,B\\n4\\n1 0 0 ADD A,B\\n5\\n1 0 1 Shift R, A\\n6\\n1 1 0 Shift L, A\\n7\\n1 1 1 NOP\\nProgram to evaluate 5-3\\nAssembly   Machine code  Accumulator\\nMOV A, 3   S=0, B=3      A=0011b=3\\nXOR A,15   S=3, B=15     A=1100b=12\\nADD A,1    S=4, B=1      A=1101b=13=-3 TC\\nADD A,5    S=4, B=5      A=0010b=2\\nALU \\nInstruction set\\nData (Operand)\\nB=3\\nQ=3\\nA=3\\nRising edge on clock \\ncauses output of ALU \\nto be stored by the \\nlatch (Accumulator).',\n",
       " 'Time\\n\\nA1\\nA0\\nA3\\nA2\\nA0\\nA1\\nA2\\nA3\\nB1\\nB0\\nB3\\nB2\\nALU\\nLatch\\nS0 S1\\nS2\\nInstruction (Operator)\\nXOR A, S=3\\nClock\\nQ0\\nQ1\\nQ2\\nQ3\\nS0S1\\nS2\\nAccumulator\\nS(Hex)S2S1S0Function\\n0\\n0 0 0 MOV A,N\\n1\\n0 0 1 AND A,B\\n2\\n0 1 0 OR A,B\\n3\\n0 1 1 XOR A,B\\n4\\n1 0 0 ADD A,B\\n5\\n1 0 1 Shift R, A\\n6\\n1 1 0 Shift L, A\\n7\\n1 1 1 NOP\\nProgram to evaluate 5-3\\nAssembly   Machine code  Accumulator\\nMOV A, 3   S=0, B=3      A=0011b=3\\nXOR A,15   S=3, B=15     A=1100b=12\\nADD A,1    S=4, B=1      A=1101b=13=-3 TC\\nADD A,5    S=4, B=5      A=0010b=2\\nALU \\nInstruction set\\nData (Operand)\\nB=15\\nQ=12\\nA=3\\nFalling edge on clock \\ncauses next instruction \\nto be taken from \\nmemory and \\npresented to the ALU.',\n",
       " 'Time\\n\\nA1\\nA0\\nA3\\nA2\\nA0\\nA1\\nA2\\nA3\\nB1\\nB0\\nB3\\nB2\\nALU\\nLatch\\nS0 S1\\nS2\\nInstruction (Operator)\\nXOR A, S=3\\nClock\\nQ0\\nQ1\\nQ2\\nQ3\\nS0S1\\nS2\\nAccumulator\\nS(Hex)S2S1S0Function\\n0\\n0 0 0 MOV A,N\\n1\\n0 0 1 AND A,B\\n2\\n0 1 0 OR A,B\\n3\\n0 1 1 XOR A,B\\n4\\n1 0 0 ADD A,B\\n5\\n1 0 1 Shift R, A\\n6\\n1 1 0 Shift L, A\\n7\\n1 1 1 NOP\\nProgram to evaluate 5-3\\nAssembly   Machine code  Accumulator\\nMOV A, 3   S=0, B=3      A=0011b=3\\nXOR A,15   S=3, B=15     A=1100b=12\\nADD A,1    S=4, B=1      A=1101b=13=-3 TC\\nADD A,5    S=4, B=5      A=0010b=2\\nALU \\nInstruction set\\nData (Operand)\\nB=15\\nQ=12\\nA=12\\nRising edge on clock \\ncauses output of ALU \\nto be stored by the \\nlatch (Accumulator).\\nTime\\nAnd so on…\\n\\nA1\\nA0\\nA3\\nA2\\nB1\\nB0\\nB3\\nB2\\nALU\\nS1\\nS2\\nAdd2\\nClock\\nQ0\\nQ1\\nQ2\\nQ3\\nAdd0\\nAdd1\\nS3\\nA\\nData\\nAddress\\nMemory\\nIP\\nAdd3\\nEnable\\nEnable\\nS2\\nS0\\nS1\\nS3\\nS0\\nS0\\nExtending the calculator to become a simple microprocessor\\nAdding a memory to store the program (S and B \\nvalues) and a second register (IP instruction \\npointer) to store the address of the line code \\nallows us to create a microprocessor.',\n",
       " 'Each clock \\npulse the IP increases by one so as to point to \\nthe next line of code (binary counter).  Adding or \\nsubtracting to the IP value is equivalent to \\njumping.  The Accumulator (A) is used to build \\nthe answer.  The IP keeps track of the line of \\ncode.\\nLine\\n 0 S=0, B=3\\n 1 S=0, B=15\\n 2 S=4, B=1\\n 3 S=4, B=5\\nS0 is used to control the input and output \\nof the ALU to either the Instruction \\nPointer (IP) or the Accumulator (A)\\nCircuit not complete, however it does \\nconvey the concept\\n\\nZX81 Based Microcomputer\\nAs straightforward as it gets, similar features to a PC.\\nThey are all DEC (Digital Electronic Computers)\\nULA\\nCPU\\nRAM\\nROM\\nBUS\\n\\nZ80\\nTransistor Count: 8,500 \\nDate: 1976\\nManufacturer: Zilog \\nFeature Size: 4 μm\\nArea: 18 mm²\\nClock Frequency: up to 20 MHz\\nRegisters: 208 bits (6 x 8-bit)\\nTopic 1.6: The machine cycle - Z80A Microprocessor example\\nBuses \\nAddress bus: Output from uP, used to address or “wake up” a device.\\nData bus: Bidirectional bus, carries data between CPU and Device.\\nControl bus: Synchronises the data transfer between devices.\\nDie\\nPackage\\nCircuit diagram symbol\\n\\nZ80 Architecture\\nZ80 Architecture\\nZ80 contains\\nControl unit: this controls the operation of the CPU through the fetch, decode, execute, read, and write phases.\\nBuses: data bus, address bus, and control bus.\\nRegister bank: containing data and address registers\\nALU:  evaluation of logical and arithmetic operations\\n\\nZ80A Instruction Cycle\\nExample instruction cycle (memory-to-memory operation):\\n• M1=opcode fetch and decode (4 clock cycles)\\n• M2=memory read (3 clock cycles)\\n• M3=memory write (3 clock cycles)\\n• Note: this instruction takes 10 clock cycles\\n0x22 = 34 decimal\\nSo d6 opcode for sub\\n0x92= 146 decimal\\nSo 26 opcode for LD H,\\n“LD H, = Load H with the value…”\\n\\nInstruction Fetch\\n1.',\n",
       " 'The control section\\nsimultaneously:\\n• Sends the Program Counter (Instruction Pointer) to the address bus\\n• Sends a memory read to the control bus\\n2.\\nThe external memory responds by placing the byte (instruction) at that address on the Data Bus\\n3.\\nWhich is loaded, via the input buffers and the Internal Data Bus, into the Instruction Register\\ne.g. 26 “LD H,” loaded in here\\nFetch causes the first byte to \\nbe read this is the  opcode.\\nThis sometimes the only byte \\nread from memory.\\ne.g. \\nnop  no operation\\n \\ninc a increase a\\n\\nInstruction Decode\\ne.g. 26 “LD H,” decoded here\\nThe decoder generates and supplies the control signals.\\nGet processor ready to read or write data from or to specific registers.\\nSets up the ALU.\\n+1\\n\\nRead Cycle\\n• 146- load value from second instruction byte into H\\n• Control section:\\n• Places the value on data bus (146) into H\\n• Puts a read request on the control bus for external memory\\n• The external memory places the value at this address on the data bus\\n• The H register is selected to load a new value from the data bus\\nH=146\\n\\nWrite Cycle\\n• Write B, (IY)\\n• Control Section:\\n• Places the value in selected address register (IY) onto the internal address bus\\n• Selects the B register to put its value on the internal data bus\\n• Puts a write request on the control bus for external memory\\n• The external memory stores the value from the data bus to this address\\n\\nMachine cycle\\nThere are many different descriptions of the machine cycle.\\nTypically, they all follow the “fetch”, “decode”, “execute”, “store” sequence.\\nEach step requires one (or more) clock cycles to complete.\\nOn a floating point processor, the sequence is “Check if zero”, “Shift significand”, “Add”, “Normalize”(CSAN)']"
      ]
     },
     "execution_count": 10,
     "metadata": {},
     "output_type": "execute_result"
    }
   ],
   "source": [
    "sentences"
   ]
  },
  {
   "cell_type": "code",
   "execution_count": 8,
   "metadata": {},
   "outputs": [],
   "source": [
    "from utilities.ollama_llm import OllamaLLM\n",
    "llm = OllamaLLM()"
   ]
  },
  {
   "cell_type": "code",
   "execution_count": null,
   "metadata": {},
   "outputs": [
    {
     "name": "stdout",
     "output_type": "stream",
     "text": [
      "This lecture introduces various types of computers, including analog and digital systems. Analog signals are continuous and can have all values in a range, while digital signals are discrete and can only have two values. The lecture also covers different types of computers such as Neurones, IBM TrueNorth, and Retinal Prosthesis, and discusses the basics of digital logic circuits like AND, XOR, and adder circuits. Additionally, it touches on computer architectures including Harvard and Von Neumann models, where memory and data buses are separate for instructions and operands respectively.\n",
      "Overview of Computer Architecture:\n",
      "\n",
      "* ALU (Arithmetic Logic Unit) is responsible for performing arithmetic and logical operations\n",
      "* Registers store data temporarily during execution\n",
      "* Bus Interface manages communication with memory and peripherals\n",
      "* Instructions guide the processor's actions\n",
      "* Address bus carries address information to memory, while data bus carries data between components\n",
      "\n",
      "Key Concepts:\n",
      "\n",
      "* Von Neumann architecture: instructions and data share same memory space\n",
      "* Harvard architecture: separate memory for instructions and data (e.g. x86)\n",
      "* Microprocessors have control unit, execution unit, and bus interface unit\n",
      "* Key registers include:\n",
      "  - ES (Extra Segment)\n",
      "  - CS (Code Segment)\n",
      "  - SS (Stack Segment)\n",
      "  - DS (Data Segment)\n",
      "  - IP (Instruction Pointer)\n",
      "  - DL (Data Link)\n",
      "  - SP (Stack Pointer)\n",
      "  - BP (Base Pointer)\n",
      "  - SI (Source Index)\n",
      "  - AH (Auxiliary Header)\n",
      "  - BL (Byte Length)\n",
      "  - CL (Character Length)\n",
      "  - BH (Byte High)\n",
      "  - CH (Character High)\n",
      "  - DH (Double-Word High)\n",
      "  - AL (Arithmetic Logic Unit)\n",
      "\n",
      "Processor Components:\n",
      "\n",
      "* CPU (Central Processing Unit)\n",
      "* Memory\n",
      "* I/O (Input/Output) components\n",
      "\n",
      "Microprocessor Block Diagram:\n",
      " \n",
      "* BIU (Bus Interface Unit): manages memory and port access\n",
      "* EU (Execution Unit): executes instructions, contains ALU and control circuitry\n",
      "The control unit fetches instructions from a queue, which is a first-in-first-out store of 6 bytes that keeps main memory accessed only for each instruction using pipelining. The Arithmetic Logic Unit (ALU) in the 8086 can perform various operations including addition, subtraction, AND, OR, XOR, and shift on 16-bit binary numbers by connecting inputs to multiple functions in parallel through a multiplexer.\n",
      "The text discusses digital circuits and logic operations, including multiplexers, AND gates, OR gates, half adders, full adders, and 4-bit adder/subtractors. It explains how these components work together to perform arithmetic operations such as addition, subtraction, and shifting. The text also introduces the concept of twos complement representation for numbers.\n",
      "Here are the summaries:\n",
      "\n",
      "Adding two's complement gives the same result as subtracting the number.\n",
      "Registers and latches store data in D-type flip-flops that change on clock edges.\n",
      "A latch becomes a register when it stores data on each clock edge.\n",
      "The CPU uses registers with specific purposes, such as accumulator for calculations or instruction pointer.\n",
      "A simple calculator uses an ALU to perform arithmetic operations with results stored in the accumulator.\n",
      "The text describes a simple computer architecture with an Accumulator, Arithmetic Logic Unit (ALU), and Latch. The program uses the ALU to perform basic arithmetic and logical operations, such as addition, subtraction, AND, OR, XOR, and shift. The instruction set includes MOV A, N, which moves a value into the Accumulator, followed by several instructions that evaluate the expression 5 - 3.\n",
      "The lecture discusses a simplified computer architecture, focusing on a basic ALU (Arithmetic Logic Unit) that can perform basic arithmetic and logical operations. It explains how to program a hypothetical computer using assembly language instructions for a simple machine. The example code evaluates the expression \"5 - 3\" and demonstrates the use of the accumulator and ALU in performing calculations and comparisons, with outputs determined by the rising edge of a clock signal.\n",
      "The lecture discusses the basics of digital circuits, focusing on a 4-bit Arithmetic Logic Unit (ALU) with its components: Latch, Instruction Decoder, Accumulator, Clock, and Data inputs. The example program evaluates the expression 5-3 in assembly language, using various instructions such as XOR, ADD, AND, OR, and NOP to perform arithmetic operations, demonstrating how data is processed and controlled within the ALU.\n",
      "A lecture on computer architecture focusing on the assembly language, instruction set, and basic components of a simple microprocessor. Key points include:\n",
      "\n",
      "* Instruction set: basic operations such as MOV, AND, OR, XOR, ADD, and SHIFTS\n",
      "* ALU (Arithmetic Logic Unit) operation in evaluating expressions like 5-3\n",
      "* Addition of memory to store program data and an instruction pointer\n",
      "* Creation of a simple microprocessor with registers A, B, and IP.\n",
      "The text describes a binary counter and a simple computer system, specifically the ZX81 Based Microcomputer. It explains how the accumulator (A) and instruction pointer (IP) work together to execute instructions, including fetching and decoding opcodes. The Z80 microprocessor is also discussed, including its architecture, register bank, ALU, and instruction cycle.\n",
      "The Control Section: \n",
      "1. Sends Program Counter to address bus and memory read to control bus.\n",
      "2. External Memory responds by placing byte (instruction) on Data Bus.\n",
      "3. Instruction Register loads the opcode.\n",
      "\n",
      "Instruction Decode:\n",
      "Decodes instruction, generating control signals for processor readiness and ALU setup.\n",
      "\n",
      "Machine Cycle:\n",
      "1. Fetch: Reads first byte from memory (opcode).\n",
      "2. Decode: Decodes instruction and generates control signals.\n",
      "   a. Fetch Cycle: Loads value into register H.\n",
      "   b. Write Cycle: Writes to selected address register IY.\n",
      "3. Execute/Store sequence, typically requiring one or more clock cycles per step.\n"
     ]
    }
   ],
   "source": [
    "summaries = []\n",
    "for sentence in sentences:\n",
    "    response = llm.summarise(sentence)\n",
    "    summaries.append(response)"
   ]
  },
  {
   "cell_type": "code",
   "execution_count": 11,
   "metadata": {},
   "outputs": [],
   "source": [
    "test = \"\"\"\n",
    "This lecture introduces various types of computers, including analog and digital systems. Analog signals are continuous and can have all values in a range, while digital signals are discrete and can only have two values. The lecture also covers different types of computers such as Neurones, IBM TrueNorth, and Retinal Prosthesis, and discusses the basics of digital logic circuits like AND, XOR, and adder circuits. Additionally, it touches on computer architectures including Harvard and Von Neumann models, where memory and data buses are separate for instructions and operands respectively.\n",
    "Overview of Computer Architecture:\n",
    "\n",
    "* ALU (Arithmetic Logic Unit) is responsible for performing arithmetic and logical operations\n",
    "* Registers store data temporarily during execution\n",
    "* Bus Interface manages communication with memory and peripherals\n",
    "* Instructions guide the processor's actions\n",
    "* Address bus carries address information to memory, while data bus carries data between components\n",
    "\n",
    "Key Concepts:\n",
    "\n",
    "* Von Neumann architecture: instructions and data share same memory space\n",
    "* Harvard architecture: separate memory for instructions and data (e.g. x86)\n",
    "* Microprocessors have control unit, execution unit, and bus interface unit\n",
    "* Key registers include:\n",
    "  - ES (Extra Segment)\n",
    "  - CS (Code Segment)\n",
    "  - SS (Stack Segment)\n",
    "  - DS (Data Segment)\n",
    "  - IP (Instruction Pointer)\n",
    "  - DL (Data Link)\n",
    "  - SP (Stack Pointer)\n",
    "  - BP (Base Pointer)\n",
    "  - SI (Source Index)\n",
    "  - AH (Auxiliary Header)\n",
    "  - BL (Byte Length)\n",
    "  - CL (Character Length)\n",
    "  - BH (Byte High)\n",
    "  - CH (Character High)\n",
    "  - DH (Double-Word High)\n",
    "  - AL (Arithmetic Logic Unit)\n",
    "\n",
    "Processor Components:\n",
    "\n",
    "* CPU (Central Processing Unit)\n",
    "* Memory\n",
    "* I/O (Input/Output) components\n",
    "\n",
    "Microprocessor Block Diagram:\n",
    " \n",
    "* BIU (Bus Interface Unit): manages memory and port access\n",
    "* EU (Execution Unit): executes instructions, contains ALU and control circuitry\n",
    "The control unit fetches instructions from a queue, which is a first-in-first-out store of 6 bytes that keeps main memory accessed only for each instruction using pipelining. The Arithmetic Logic Unit (ALU) in the 8086 can perform various operations including addition, subtraction, AND, OR, XOR, and shift on 16-bit binary numbers by connecting inputs to multiple functions in parallel through a multiplexer.\n",
    "The text discusses digital circuits and logic operations, including multiplexers, AND gates, OR gates, half adders, full adders, and 4-bit adder/subtractors. It explains how these components work together to perform arithmetic operations such as addition, subtraction, and shifting. The text also introduces the concept of twos complement representation for numbers.\n",
    "Here are the summaries:\n",
    "\n",
    "Adding two's complement gives the same result as subtracting the number.\n",
    "Registers and latches store data in D-type flip-flops that change on clock edges.\n",
    "A latch becomes a register when it stores data on each clock edge.\n",
    "The CPU uses registers with specific purposes, such as accumulator for calculations or instruction pointer.\n",
    "A simple calculator uses an ALU to perform arithmetic operations with results stored in the accumulator.\n",
    "The text describes a simple computer architecture with an Accumulator, Arithmetic Logic Unit (ALU), and Latch. The program uses the ALU to perform basic arithmetic and logical operations, such as addition, subtraction, AND, OR, XOR, and shift. The instruction set includes MOV A, N, which moves a value into the Accumulator, followed by several instructions that evaluate the expression 5 - 3.\n",
    "The lecture discusses a simplified computer architecture, focusing on a basic ALU (Arithmetic Logic Unit) that can perform basic arithmetic and logical operations. It explains how to program a hypothetical computer using assembly language instructions for a simple machine. The example code evaluates the expression \"5 - 3\" and demonstrates the use of the accumulator and ALU in performing calculations and comparisons, with outputs determined by the rising edge of a clock signal.\n",
    "The lecture discusses the basics of digital circuits, focusing on a 4-bit Arithmetic Logic Unit (ALU) with its components: Latch, Instruction Decoder, Accumulator, Clock, and Data inputs. The example program evaluates the expression 5-3 in assembly language, using various instructions such as XOR, ADD, AND, OR, and NOP to perform arithmetic operations, demonstrating how data is processed and controlled within the ALU.\n",
    "A lecture on computer architecture focusing on the assembly language, instruction set, and basic components of a simple microprocessor. Key points include:\n",
    "\n",
    "* Instruction set: basic operations such as MOV, AND, OR, XOR, ADD, and SHIFTS\n",
    "* ALU (Arithmetic Logic Unit) operation in evaluating expressions like 5-3\n",
    "* Addition of memory to store program data and an instruction pointer\n",
    "* Creation of a simple microprocessor with registers A, B, and IP.\n",
    "The text describes a binary counter and a simple computer system, specifically the ZX81 Based Microcomputer. It explains how the accumulator (A) and instruction pointer (IP) work together to execute instructions, including fetching and decoding opcodes. The Z80 microprocessor is also discussed, including its architecture, register bank, ALU, and instruction cycle.\n",
    "The Control Section: \n",
    "1. Sends Program Counter to address bus and memory read to control bus.\n",
    "2. External Memory responds by placing byte (instruction) on Data Bus.\n",
    "3. Instruction Register loads the opcode.\n",
    "\n",
    "Instruction Decode:\n",
    "Decodes instruction, generating control signals for processor readiness and ALU setup.\n",
    "\n",
    "Machine Cycle:\n",
    "1. Fetch: Reads first byte from memory (opcode).\n",
    "2. Decode: Decodes instruction and generates control signals.\n",
    "   a. Fetch Cycle: Loads value into register H.\n",
    "   b. Write Cycle: Writes to selected address register IY.\n",
    "3. Execute/Store sequence, typically requiring one or more clock cycles per step.\n",
    "\n",
    "\"\"\""
   ]
  },
  {
   "cell_type": "code",
   "execution_count": 12,
   "metadata": {},
   "outputs": [
    {
     "data": {
      "text/plain": [
       "5887"
      ]
     },
     "execution_count": 12,
     "metadata": {},
     "output_type": "execute_result"
    }
   ],
   "source": [
    "len(test)"
   ]
  },
  {
   "cell_type": "markdown",
   "metadata": {},
   "source": [
    "## Interim Report Work"
   ]
  },
  {
   "cell_type": "code",
   "execution_count": 3,
   "metadata": {},
   "outputs": [
    {
     "name": "stdout",
     "output_type": "stream",
     "text": [
      "PDFs have been combined successfully!\n"
     ]
    }
   ],
   "source": [
    "from pypdf import PdfReader, PdfWriter\n",
    "\n",
    "# Load the PDFs\n",
    "pdf1 = PdfReader(\"../pdf_test/19313673_White.pdf\")\n",
    "pdf2 = PdfReader(\"../pdf_test/Appendix.pdf\")\n",
    "\n",
    "# Create a PDF writer object\n",
    "writer = PdfWriter()\n",
    "\n",
    "# Add specific pages from the first PDF (e.g., pages 1 and 2)\n",
    "writer.add_page(pdf1.pages[0])  # Page 1 (0-indexed)\n",
    "writer.add_page(pdf1.pages[1])  # Page 2\n",
    "\n",
    "# Add pages from the second PDF (e.g., pages 3 onward)\n",
    "for page in pdf2.pages[2:]:  # Pages 3 onward (0-indexed starts at 2)\n",
    "    writer.add_page(page)\n",
    "\n",
    "# Write the combined PDF to a new file\n",
    "with open(\"../test_folder_pdf/19313673_White.pdf\", \"wb\") as output_file:\n",
    "    writer.write(output_file)\n",
    "\n",
    "print(\"PDFs have been combined successfully!\")\n"
   ]
  },
  {
   "cell_type": "code",
   "execution_count": null,
   "metadata": {},
   "outputs": [],
   "source": []
  }
 ],
 "metadata": {
  "kernelspec": {
   "display_name": ".venv",
   "language": "python",
   "name": "python3"
  },
  "language_info": {
   "codemirror_mode": {
    "name": "ipython",
    "version": 3
   },
   "file_extension": ".py",
   "mimetype": "text/x-python",
   "name": "python",
   "nbconvert_exporter": "python",
   "pygments_lexer": "ipython3",
   "version": "3.11.6"
  }
 },
 "nbformat": 4,
 "nbformat_minor": 2
}
